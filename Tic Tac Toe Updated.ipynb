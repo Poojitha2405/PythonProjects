{
 "cells": [
  {
   "cell_type": "code",
   "execution_count": 1,
   "id": "c2cc6bec-b6e9-4c32-adad-5fb94dd07b33",
   "metadata": {},
   "outputs": [],
   "source": [
    "import pyodbc"
   ]
  },
  {
   "cell_type": "code",
   "execution_count": 11,
   "id": "dc2e30f0-23ec-4379-9f79-883eb76dc792",
   "metadata": {},
   "outputs": [
    {
     "name": "stdout",
     "output_type": "stream",
     "text": [
      "Connected to the database successfully!\n"
     ]
    }
   ],
   "source": [
    "connection_string = (\n",
    "    \"DRIVER={SQL Server};\"\n",
    "    \"SERVER=Hp2058\\\\SQLEXPRESS;\"  # Replace with your actual SQL Server instance name\n",
    "    \"DATABASE=Project1;\"     # Replace with the database name you created in SSMS\n",
    "    \"Trusted_Connection=yes;\" # Use Windows Authentication\n",
    ")\n",
    "conn = pyodbc.connect(connection_string)\n",
    "cursor = conn.cursor()\n",
    "\n",
    "print(\"Connected to the database successfully!\")"
   ]
  },
  {
   "cell_type": "code",
   "execution_count": 75,
   "id": "92b529ab-65d4-40cd-817c-ef8db9954ec5",
   "metadata": {},
   "outputs": [],
   "source": [
    "def insert_player(player_name):\n",
    "    cursor.execute(\"\"\"\n",
    "        INSERT INTO Players (PlayerName)\n",
    "        VALUES (?)\n",
    "    \"\"\", player_name)\n",
    "    conn.commit()\n",
    "    print(f\"Player {player_name} inserted.\")\n"
   ]
  },
  {
   "cell_type": "code",
   "execution_count": 77,
   "id": "e1e0f840-ddfb-4e1a-8154-c0464516a908",
   "metadata": {},
   "outputs": [],
   "source": [
    "import datetime\n",
    "\n",
    "def insert_game(player1_id, player2_id, game_outcome):\n",
    "    start_time = datetime.datetime.now()\n",
    "    cursor.execute(\"\"\"\n",
    "        INSERT INTO Games (StartTime, Player1ID, Player2ID, GameOutcome)\n",
    "        VALUES (?, ?, ?, ?)\n",
    "    \"\"\", start_time, player1_id, player2_id, game_outcome)\n",
    "    conn.commit()\n",
    "    print(f\"Game started between Player {player1_id} and Player {player2_id}.\")\n",
    "\n"
   ]
  },
  {
   "cell_type": "code",
   "execution_count": 79,
   "id": "f4325174-5c32-4f64-b10c-ac68db1b3d3c",
   "metadata": {},
   "outputs": [],
   "source": [
    "def insert_move(game_id, player_id, move_number, position):\n",
    "    move_time = datetime.datetime.now()\n",
    "    cursor.execute(\"\"\"\n",
    "        INSERT INTO Moves (GameID, PlayerID, MoveNumber, Position, MoveTime)\n",
    "        VALUES (?, ?, ?, ?, ?)\n",
    "    \"\"\", game_id, player_id, move_number, position, move_time)\n",
    "    conn.commit()\n",
    "    print(f\"Move {move_number} at position {position} made by Player {player_id}.\")\n",
    "\n"
   ]
  },
  {
   "cell_type": "code",
   "execution_count": 81,
   "id": "5c1a08d8-d402-41a7-9364-71cf17a65376",
   "metadata": {},
   "outputs": [],
   "source": [
    "def update_game_outcome(game_id, winner_id):\n",
    "    end_time = datetime.datetime.now()\n",
    "    cursor.execute(\"\"\"\n",
    "        UPDATE Games\n",
    "        SET EndTime = ?, WinnerID = ?\n",
    "        WHERE GameID = ?\n",
    "    \"\"\", end_time, winner_id, game_id)\n",
    "    conn.commit()\n",
    "    print(f\"Game {game_id} ended. Winner is Player {winner_id}.\")\n"
   ]
  },
  {
   "cell_type": "code",
   "execution_count": 83,
   "id": "1ddb8e0f-4322-4e18-8ec0-9bf9ebbd6289",
   "metadata": {},
   "outputs": [
    {
     "name": "stdout",
     "output_type": "stream",
     "text": [
      "Player Player1 inserted.\n",
      "Player Player2 inserted.\n",
      "Game started between Player 3 and Player 4.\n",
      "Move 1 at position A1 made by Player 3.\n",
      "Move 2 at position B2 made by Player 4.\n",
      "Move 3 at position C3 made by Player 3.\n",
      "Game 2 ended. Winner is Player 3.\n"
     ]
    }
   ],
   "source": [
    "\n",
    "# Insert Players\n",
    "insert_player('Player1')\n",
    "insert_player('Player2')\n",
    "\n",
    "# Retrieve Player IDs\n",
    "cursor.execute(\"SELECT PlayerID FROM Players WHERE PlayerName = 'Player1'\")\n",
    "player1_id = cursor.fetchone()[0]\n",
    "\n",
    "cursor.execute(\"SELECT PlayerID FROM Players WHERE PlayerName = 'Player2'\")\n",
    "player2_id = cursor.fetchone()[0]\n",
    "\n",
    "# Start Game\n",
    "game_outcome = 'Ongoing'\n",
    "insert_game(player1_id, player2_id, game_outcome)\n",
    "\n",
    "# Retrieve Game ID\n",
    "cursor.execute(\"SELECT GameID FROM Games WHERE GameOutcome = 'Ongoing'\")\n",
    "game_id = cursor.fetchone()[0]\n",
    "\n",
    "# Insert Moves\n",
    "insert_move(game_id, player1_id, 1, 'A1')\n",
    "insert_move(game_id, player2_id, 2, 'B2')\n",
    "insert_move(game_id, player1_id, 3, 'C3')\n",
    "\n",
    "# End Game and Update Outcome\n",
    "update_game_outcome(game_id, player1_id)\n"
   ]
  },
  {
   "cell_type": "code",
   "execution_count": 93,
   "id": "5566ed4f-1860-4c37-884a-39d1f34b0426",
   "metadata": {},
   "outputs": [],
   "source": [
    "from sqlalchemy import create_engine\n",
    "import urllib\n",
    "\n",
    "# Define the connection string using pyodbc\n",
    "params = urllib.parse.quote_plus(\"DRIVER={ODBC Driver 17 for SQL Server};\"\n",
    "                                  \"SERVER=Hp2058\\\\SQLEXPRESS;\"  # Replace with your actual SQL Server name\n",
    "                                  \"DATABASE=Project1;\"  # Replace with your actual database name\n",
    "                                  \"Trusted_Connection=yes;\")           # Replace with your actual password\n",
    "\n",
    "# Create the SQLAlchemy engine\n",
    "engine = create_engine(f\"mssql+pyodbc:///?odbc_connect={params}\")\n",
    "\n",
    "# Connect to the database\n",
    "conn = engine.connect()\n"
   ]
  },
  {
   "cell_type": "code",
   "execution_count": 95,
   "id": "0a7bed9d-1cac-45bb-a964-4b0e02320205",
   "metadata": {},
   "outputs": [
    {
     "name": "stdout",
     "output_type": "stream",
     "text": [
      "   PlayerName  MoveNumber Position                MoveTime\n",
      "0     Player1           1       A1 2025-01-07 16:05:39.173\n",
      "1     Player1           1       A1 2025-01-07 16:07:34.307\n",
      "2     Player1           1       A1 2025-01-07 16:07:37.797\n",
      "3     Player1           1       A1 2025-01-07 16:07:47.253\n",
      "4     Player2           2       B2 2025-01-07 16:07:47.257\n",
      "5     Player2           2       B2 2025-01-07 16:07:37.800\n",
      "6     Player2           2       B2 2025-01-07 16:07:34.310\n",
      "7     Player2           2       B2 2025-01-07 16:05:39.177\n",
      "8     Player1           3       C3 2025-01-07 16:05:39.180\n",
      "9     Player1           3       C3 2025-01-07 16:07:34.310\n",
      "10    Player1           3       C3 2025-01-07 16:07:37.800\n",
      "11    Player1           3       C3 2025-01-07 16:07:47.257\n"
     ]
    }
   ],
   "source": [
    "import pandas as pd\n",
    "\n",
    "# Query to retrieve moves\n",
    "df_moves = pd.read_sql(\"\"\"\n",
    "    SELECT p.PlayerName, m.MoveNumber, m.Position, m.MoveTime\n",
    "    FROM Moves m\n",
    "    JOIN Players p ON m.PlayerID = p.PlayerID\n",
    "    ORDER BY m.GameID, m.MoveNumber\n",
    "\"\"\", conn)\n",
    "\n",
    "# Display the dataframe\n",
    "print(df_moves)\n"
   ]
  },
  {
   "cell_type": "code",
   "execution_count": 97,
   "id": "bf7f6be2-973d-471f-b783-fcebdfd2a964",
   "metadata": {},
   "outputs": [],
   "source": [
    "conn.close()"
   ]
  },
  {
   "cell_type": "code",
   "execution_count": null,
   "id": "cd60685d-692e-4886-a65e-f248e959c36f",
   "metadata": {},
   "outputs": [],
   "source": []
  },
  {
   "cell_type": "code",
   "execution_count": 85,
   "id": "ad26864e-f8ec-4a4e-95d2-b2a8031ed97d",
   "metadata": {},
   "outputs": [],
   "source": [
    "import pandas as pd"
   ]
  },
  {
   "cell_type": "code",
   "execution_count": 87,
   "id": "9367275a-a45b-4c23-8a43-44c75009c79d",
   "metadata": {},
   "outputs": [
    {
     "name": "stdout",
     "output_type": "stream",
     "text": [
      "   PlayerName  MoveNumber Position                MoveTime\n",
      "0     Player1           1       A1 2025-01-07 16:05:39.173\n",
      "1     Player1           1       A1 2025-01-07 16:07:34.307\n",
      "2     Player1           1       A1 2025-01-07 16:07:37.797\n",
      "3     Player1           1       A1 2025-01-07 16:07:47.253\n",
      "4     Player2           2       B2 2025-01-07 16:07:47.257\n",
      "5     Player2           2       B2 2025-01-07 16:07:37.800\n",
      "6     Player2           2       B2 2025-01-07 16:07:34.310\n",
      "7     Player2           2       B2 2025-01-07 16:05:39.177\n",
      "8     Player1           3       C3 2025-01-07 16:05:39.180\n",
      "9     Player1           3       C3 2025-01-07 16:07:34.310\n",
      "10    Player1           3       C3 2025-01-07 16:07:37.800\n",
      "11    Player1           3       C3 2025-01-07 16:07:47.257\n"
     ]
    },
    {
     "name": "stderr",
     "output_type": "stream",
     "text": [
      "C:\\Users\\npooj\\AppData\\Local\\Temp\\ipykernel_4804\\779656766.py:1: UserWarning: pandas only supports SQLAlchemy connectable (engine/connection) or database string URI or sqlite3 DBAPI2 connection. Other DBAPI2 objects are not tested. Please consider using SQLAlchemy.\n",
      "  df_moves = pd.read_sql(\"\"\"\n"
     ]
    }
   ],
   "source": [
    "df_moves = pd.read_sql(\"\"\"\n",
    "    SELECT p.PlayerName, m.MoveNumber, m.Position, m.MoveTime\n",
    "    FROM Moves m\n",
    "    JOIN Players p ON m.PlayerID = p.PlayerID\n",
    "    ORDER BY m.GameID, m.MoveNumber\n",
    "\"\"\", conn)\n",
    "\n",
    "print(df_moves)"
   ]
  },
  {
   "cell_type": "code",
   "execution_count": null,
   "id": "05363547-b9e0-402e-b13c-35f220485f9f",
   "metadata": {},
   "outputs": [],
   "source": []
  }
 ],
 "metadata": {
  "kernelspec": {
   "display_name": "Python [conda env:base] *",
   "language": "python",
   "name": "conda-base-py"
  },
  "language_info": {
   "codemirror_mode": {
    "name": "ipython",
    "version": 3
   },
   "file_extension": ".py",
   "mimetype": "text/x-python",
   "name": "python",
   "nbconvert_exporter": "python",
   "pygments_lexer": "ipython3",
   "version": "3.12.7"
  }
 },
 "nbformat": 4,
 "nbformat_minor": 5
}
